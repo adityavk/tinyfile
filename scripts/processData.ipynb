{
 "cells": [
  {
   "cell_type": "code",
   "execution_count": 1,
   "metadata": {},
   "outputs": [],
   "source": [
    "import numpy as np"
   ]
  },
  {
   "cell_type": "code",
   "execution_count": 48,
   "metadata": {},
   "outputs": [],
   "source": [
    "nums = [1, 3, 5]\n",
    "sizes = [128, 256, 512, 1024, 2048, 4096, 8192]\n"
   ]
  },
  {
   "cell_type": "code",
   "execution_count": 49,
   "metadata": {},
   "outputs": [],
   "source": [
    "sync_data = np.zeros((5, len(nums), len(sizes)))\n",
    "async_data = np.zeros((5, len(nums), len(sizes)))\n",
    "filename_map = {\n",
    "    \"test/input/Tiny.txt\": 0,\n",
    "    \"test/input/Small.jpg\": 1,\n",
    "    \"test/input/Medium.pdf\": 2,\n",
    "    \"test/input/Large.txt\": 3,\n",
    "    \"test/input/Huge.jpg\": 4,\n",
    "}\n",
    "\n",
    "def process_dir(i, j):\n",
    "    for run in range(1, 4):\n",
    "        with open(\"../results/\"+str(nums[i])+\".\"+str(sizes[j])+\"/sync_results\"+str(run)+\".csv\") as f:\n",
    "            lines = f.readlines()\n",
    "            for line in lines:\n",
    "                filename, res = line.split(\",\")\n",
    "                sync_data[filename_map[filename]][i][j] += int(res.split(\" \")[2])/3.0\n",
    "        with open(\"../results/\"+str(nums[i])+\".\"+str(sizes[j])+\"/async_results\"+str(run)+\".csv\") as f:\n",
    "            lines = f.readlines()\n",
    "            for line in lines:\n",
    "                filename, res = line.split(\",\")\n",
    "                async_data[filename_map[filename]][i][j] += int(res.split(\" \")[2])/3.0\n"
   ]
  },
  {
   "cell_type": "code",
   "execution_count": 50,
   "metadata": {},
   "outputs": [
    {
     "data": {
      "text/plain": [
       "array([[[1.10440000e+04, 5.36200000e+03, 2.30766667e+03, 1.76866667e+03,\n",
       "         0.00000000e+00, 0.00000000e+00, 0.00000000e+00],\n",
       "        [8.14933333e+03, 3.07100000e+03, 1.59500000e+03, 8.92333333e+02,\n",
       "         0.00000000e+00, 0.00000000e+00, 0.00000000e+00],\n",
       "        [7.42200000e+03, 3.56900000e+03, 1.74300000e+03, 8.80000000e+02,\n",
       "         4.45000000e+02, 3.56000000e+02, 2.80333333e+02]],\n",
       "\n",
       "       [[7.51923333e+04, 3.33203333e+04, 1.55390000e+04, 7.79700000e+03,\n",
       "         0.00000000e+00, 0.00000000e+00, 0.00000000e+00],\n",
       "        [5.58403333e+04, 2.35210000e+04, 1.25713333e+04, 5.43033333e+03,\n",
       "         0.00000000e+00, 0.00000000e+00, 0.00000000e+00],\n",
       "        [4.62950000e+04, 2.17700000e+04, 1.10276667e+04, 5.98633333e+03,\n",
       "         2.84566667e+03, 1.87566667e+03, 1.17500000e+03]],\n",
       "\n",
       "       [[1.77419333e+05, 7.30750000e+04, 3.58650000e+04, 1.78653333e+04,\n",
       "         0.00000000e+00, 0.00000000e+00, 0.00000000e+00],\n",
       "        [1.17119000e+05, 5.34133333e+04, 2.55996667e+04, 1.53250000e+04,\n",
       "         0.00000000e+00, 0.00000000e+00, 0.00000000e+00],\n",
       "        [1.04431000e+05, 5.13586667e+04, 2.47336667e+04, 1.21616667e+04,\n",
       "         6.97366667e+03, 4.30900000e+03, 2.29033333e+03]],\n",
       "\n",
       "       [[3.48871667e+05, 1.47023333e+05, 7.46556667e+04, 3.82790000e+04,\n",
       "         0.00000000e+00, 0.00000000e+00, 0.00000000e+00],\n",
       "        [2.46219000e+05, 1.05664000e+05, 5.10170000e+04, 2.47600000e+04,\n",
       "         0.00000000e+00, 0.00000000e+00, 0.00000000e+00],\n",
       "        [2.06362000e+05, 9.21123333e+04, 4.57220000e+04, 2.34433333e+04,\n",
       "         1.63406667e+04, 8.59066667e+03, 5.16766667e+03]],\n",
       "\n",
       "       [[6.64093000e+05, 2.75161333e+05, 1.41109333e+05, 7.39463333e+04,\n",
       "         0.00000000e+00, 0.00000000e+00, 0.00000000e+00],\n",
       "        [4.63066000e+05, 1.96270000e+05, 1.03159333e+05, 5.30140000e+04,\n",
       "         0.00000000e+00, 0.00000000e+00, 0.00000000e+00],\n",
       "        [3.84352000e+05, 1.72134333e+05, 8.63486667e+04, 4.79270000e+04,\n",
       "         2.78136667e+04, 1.58793333e+04, 9.76333333e+03]]])"
      ]
     },
     "execution_count": 50,
     "metadata": {},
     "output_type": "execute_result"
    }
   ],
   "source": [
    "for i in range(len(nums)):\n",
    "    for j in range(4):\n",
    "        process_dir(i, j)\n",
    "        \n",
    "for j in range(4, 7):\n",
    "    process_dir(2, j)\n",
    "sync_data\n",
    "async_data"
   ]
  },
  {
   "cell_type": "code",
   "execution_count": 69,
   "metadata": {},
   "outputs": [],
   "source": [
    "import matplotlib.pyplot as plt\n",
    "\n",
    "def plotForFileAndNumSegments(n):\n",
    "    for fileName in [\"Tiny.txt\", \"Small.jpg\", \"Medium.pdf\", \"Large.txt\", \"Huge.jpg\"]:\n",
    "        file = filename_map[\"test/input/\"+fileName]\n",
    "        # Plot values against the last axis for the first row and column\n",
    "        plt.plot(sizes, sync_data[file,n,:], 'o-', label=fileName)\n",
    "\n",
    "        # Add axis labels and title\n",
    "        plt.xlabel('SHM Size')\n",
    "        plt.ylabel('CST')\n",
    "        plt.title('CST vs SHM size for n_sms = ' + str(nums[n]))\n",
    "\n",
    "    # Display plot\n",
    "    # plt.show()\n",
    "    plt.legend()\n",
    "    plt.savefig('../plots/sync/cst_vs_size_' + str(nums[n]) + '_segments.png')\n",
    "    plt.clf()\n",
    "    \n",
    "def plotForOneFileAndNumSegments(fileName, n):\n",
    "    file = filename_map[\"test/input/\"+fileName]\n",
    "    # Plot values against the last axis for the first row and column\n",
    "    plt.plot(sizes, sync_data[file,n,:], 'o-')\n",
    "\n",
    "    # Add axis labels and title\n",
    "    plt.xlabel('SHM Size')\n",
    "    plt.ylabel('CST')\n",
    "    plt.title('CST vs SHM size for n_sms = ' + str(nums[n]) + ' for file '+fileName)\n",
    "\n",
    "    # Display plot\n",
    "    # plt.show()\n",
    "    plt.savefig('../plots/sync/cst_vs_size_' + str(nums[n]) + '_segments_'+fileName+'.png')\n",
    "    plt.clf()"
   ]
  },
  {
   "cell_type": "code",
   "execution_count": 70,
   "metadata": {},
   "outputs": [
    {
     "data": {
      "text/plain": [
       "<Figure size 640x480 with 0 Axes>"
      ]
     },
     "metadata": {},
     "output_type": "display_data"
    }
   ],
   "source": [
    "for n in range(len(nums)):\n",
    "    plotForFileAndNumSegments(n)\n",
    "\n",
    "plotForOneFileAndNumSegments(\"Huge.jpg\", 2)"
   ]
  },
  {
   "cell_type": "code",
   "execution_count": 71,
   "metadata": {},
   "outputs": [],
   "source": [
    "def plotForFileAndSHMSize(s):\n",
    "    for fileName in [\"Tiny.txt\", \"Small.jpg\", \"Medium.pdf\", \"Large.txt\", \"Huge.jpg\"]:\n",
    "        file = filename_map[\"test/input/\"+fileName]\n",
    "        # Plot values against the last axis for the first row and column\n",
    "        plt.plot(nums, sync_data[file,:,s], 'o-', label=fileName)\n",
    "\n",
    "        # Add axis labels and title\n",
    "        plt.xlabel('Num of segments')\n",
    "        plt.ylabel('CST')\n",
    "        plt.title('CST vs n_sms for sms_size = ' + str(sizes[s]))\n",
    "\n",
    "    # Display plot\n",
    "    # plt.show()\n",
    "    plt.legend()\n",
    "    plt.savefig('../plots/sync/cst_vs_n_segs_' + str(sizes[s]) + '_size.png')\n",
    "    plt.clf()\n",
    "    \n",
    "def plotForOneFileAndSHMSize(fileName, s):\n",
    "    file = filename_map[\"test/input/\"+fileName]\n",
    "    # Plot values against the last axis for the first row and column\n",
    "    plt.plot(nums, sync_data[file,:,s], 'o-')\n",
    "\n",
    "    # Add axis labels and title\n",
    "    plt.xlabel('Num of segments')\n",
    "    plt.ylabel('CST')\n",
    "    plt.title('CST vs n_sms for sms_size = ' + str(sizes[s]) + ' for file '+fileName)\n",
    "\n",
    "    # Display plot\n",
    "    # plt.show()\n",
    "    # plt.legend()\n",
    "    plt.savefig('../plots/sync/cst_vs_n_segs_' + str(sizes[s]) + '_size_'+fileName+'.png')\n",
    "    plt.clf()"
   ]
  },
  {
   "cell_type": "code",
   "execution_count": 72,
   "metadata": {},
   "outputs": [
    {
     "data": {
      "text/plain": [
       "<Figure size 640x480 with 0 Axes>"
      ]
     },
     "metadata": {},
     "output_type": "display_data"
    }
   ],
   "source": [
    "for s in range(len(sizes)):\n",
    "    plotForFileAndSHMSize(s)\n",
    "\n"
   ]
  },
  {
   "cell_type": "code",
   "execution_count": 73,
   "metadata": {},
   "outputs": [
    {
     "data": {
      "text/plain": [
       "<Figure size 640x480 with 0 Axes>"
      ]
     },
     "metadata": {},
     "output_type": "display_data"
    }
   ],
   "source": [
    "plotForOneFileAndNumSegments(\"Tiny.txt\", 2)"
   ]
  },
  {
   "cell_type": "code",
   "execution_count": 74,
   "metadata": {},
   "outputs": [],
   "source": [
    "def asyncplotForOneFileAndNumSegments(fileName, n):\n",
    "    file = filename_map[\"test/input/\"+fileName]\n",
    "    # Plot values against the last axis for the first row and column\n",
    "    plt.plot(sizes, sync_data[file,n,:], 'o-', label='SYNC')\n",
    "    plt.plot(sizes, async_data[file,n,:], 'o-', label='ASYNC')\n",
    "\n",
    "    # Add axis labels and title\n",
    "    plt.xlabel('SHM Size')\n",
    "    plt.ylabel('CST')\n",
    "    plt.title('CST vs SHM size for n_sms = ' + str(nums[n]) + ' for file '+fileName)\n",
    "\n",
    "    # Display plot\n",
    "    # plt.show()\n",
    "    plt.legend()\n",
    "    plt.savefig('../plots/sync_vs_async/async_vs_sync_cst_vs_size_' + str(nums[n]) + '_segments_'+fileName+'.png')\n",
    "    plt.clf()\n",
    "    \n",
    "def asyncplotForOneFileAndSHMSize(fileName, s):\n",
    "    file = filename_map[\"test/input/\"+fileName]\n",
    "    # Plot values against the last axis for the first row and column\n",
    "    plt.plot(nums, sync_data[file,:,s], 'o-', label='SYNC')\n",
    "    plt.plot(nums, async_data[file,:,s], 'o-', label='ASYNC')\n",
    "\n",
    "    # Add axis labels and title\n",
    "    plt.xlabel('Num of segments')\n",
    "    plt.ylabel('CST')\n",
    "    plt.title('CST vs n_sms for sms_size = ' + str(sizes[s]) + ' for file '+fileName)\n",
    "\n",
    "    # Display plot\n",
    "    # plt.show()\n",
    "    plt.legend()\n",
    "    plt.savefig('../plots/sync_vs_async/async_vs_sync_cst_vs_n_segs_' + str(sizes[s]) + '_size_'+fileName+'.png')\n",
    "    plt.clf()"
   ]
  },
  {
   "cell_type": "code",
   "execution_count": 75,
   "metadata": {},
   "outputs": [
    {
     "data": {
      "text/plain": [
       "<Figure size 640x480 with 0 Axes>"
      ]
     },
     "metadata": {},
     "output_type": "display_data"
    }
   ],
   "source": [
    "asyncplotForOneFileAndNumSegments(\"Huge.jpg\", 2)\n",
    "asyncplotForOneFileAndNumSegments(\"Huge.jpg\", 0)\n",
    "asyncplotForOneFileAndNumSegments(\"Tiny.txt\", 2)\n",
    "asyncplotForOneFileAndNumSegments(\"Tiny.txt\", 0)\n",
    "\n",
    "asyncplotForOneFileAndSHMSize(\"Huge.jpg\", 0)\n",
    "asyncplotForOneFileAndSHMSize(\"Huge.jpg\", 3)\n",
    "asyncplotForOneFileAndSHMSize(\"Tiny.txt\", 0)\n",
    "asyncplotForOneFileAndSHMSize(\"Tiny.txt\", 3)"
   ]
  }
 ],
 "metadata": {
  "kernelspec": {
   "display_name": "Python 3",
   "language": "python",
   "name": "python3"
  },
  "language_info": {
   "codemirror_mode": {
    "name": "ipython",
    "version": 3
   },
   "file_extension": ".py",
   "mimetype": "text/x-python",
   "name": "python",
   "nbconvert_exporter": "python",
   "pygments_lexer": "ipython3",
   "version": "3.9.1"
  },
  "orig_nbformat": 4
 },
 "nbformat": 4,
 "nbformat_minor": 2
}
